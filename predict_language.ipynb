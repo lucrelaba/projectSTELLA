{
 "cells": [
  {
   "cell_type": "markdown",
   "metadata": {},
   "source": [
    "# Language Prediction on Multilingual Sentiment Analysis dataset\n",
    "with dataset available on Kaggle: https://www.kaggle.com/datasets/suraj520/multi-task-learning\n",
    "\n"
   ]
  },
  {
   "cell_type": "code",
   "execution_count": 1,
   "metadata": {},
   "outputs": [],
   "source": [
    "import pandas as pd"
   ]
  },
  {
   "cell_type": "code",
   "execution_count": 2,
   "metadata": {},
   "outputs": [
    {
     "data": {
      "text/html": [
       "<div>\n",
       "<style scoped>\n",
       "    .dataframe tbody tr th:only-of-type {\n",
       "        vertical-align: middle;\n",
       "    }\n",
       "\n",
       "    .dataframe tbody tr th {\n",
       "        vertical-align: top;\n",
       "    }\n",
       "\n",
       "    .dataframe thead th {\n",
       "        text-align: right;\n",
       "    }\n",
       "</style>\n",
       "<table border=\"1\" class=\"dataframe\">\n",
       "  <thead>\n",
       "    <tr style=\"text-align: right;\">\n",
       "      <th></th>\n",
       "      <th>tweet</th>\n",
       "      <th>language</th>\n",
       "      <th>sentiment</th>\n",
       "    </tr>\n",
       "  </thead>\n",
       "  <tbody>\n",
       "    <tr>\n",
       "      <th>0</th>\n",
       "      <td>Lionel Messi, que ha estado vinculado con un t...</td>\n",
       "      <td>es</td>\n",
       "      <td>3 stars</td>\n",
       "    </tr>\n",
       "    <tr>\n",
       "      <th>1</th>\n",
       "      <td>This is a guest post by The Joy of Truth. To r...</td>\n",
       "      <td>en</td>\n",
       "      <td>4 stars</td>\n",
       "    </tr>\n",
       "    <tr>\n",
       "      <th>2</th>\n",
       "      <td>Nous sommes tous conscients de la popularité d...</td>\n",
       "      <td>fr</td>\n",
       "      <td>5 stars</td>\n",
       "    </tr>\n",
       "    <tr>\n",
       "      <th>3</th>\n",
       "      <td>El baño en el sistema de metro de la ciudad de...</td>\n",
       "      <td>es</td>\n",
       "      <td>4 stars</td>\n",
       "    </tr>\n",
       "    <tr>\n",
       "      <th>4</th>\n",
       "      <td>\"Ich habe dies seit über 20 Jahren getan und i...</td>\n",
       "      <td>de</td>\n",
       "      <td>5 stars</td>\n",
       "    </tr>\n",
       "    <tr>\n",
       "      <th>...</th>\n",
       "      <td>...</td>\n",
       "      <td>...</td>\n",
       "      <td>...</td>\n",
       "    </tr>\n",
       "    <tr>\n",
       "      <th>4912</th>\n",
       "      <td>\\nA former CIA officer and CIA director has pl...</td>\n",
       "      <td>en</td>\n",
       "      <td>1 star</td>\n",
       "    </tr>\n",
       "    <tr>\n",
       "      <th>4913</th>\n",
       "      <td>Karen M. Felt, Ph.D. La ricerca è stata condot...</td>\n",
       "      <td>it</td>\n",
       "      <td>4 stars</td>\n",
       "    </tr>\n",
       "    <tr>\n",
       "      <th>4914</th>\n",
       "      <td>Mit all der Aufmerksamkeit, die dem Thema Abtr...</td>\n",
       "      <td>de</td>\n",
       "      <td>2 stars</td>\n",
       "    </tr>\n",
       "    <tr>\n",
       "      <th>4915</th>\n",
       "      <td>L'élément le plus important dans le processus ...</td>\n",
       "      <td>fr</td>\n",
       "      <td>4 stars</td>\n",
       "    </tr>\n",
       "    <tr>\n",
       "      <th>4916</th>\n",
       "      <td>On voit souvent dans les films quelqu'un qui a...</td>\n",
       "      <td>fr</td>\n",
       "      <td>3 stars</td>\n",
       "    </tr>\n",
       "  </tbody>\n",
       "</table>\n",
       "<p>4917 rows × 3 columns</p>\n",
       "</div>"
      ],
      "text/plain": [
       "                                                  tweet language sentiment\n",
       "0     Lionel Messi, que ha estado vinculado con un t...       es   3 stars\n",
       "1     This is a guest post by The Joy of Truth. To r...       en   4 stars\n",
       "2     Nous sommes tous conscients de la popularité d...       fr   5 stars\n",
       "3     El baño en el sistema de metro de la ciudad de...       es   4 stars\n",
       "4     \"Ich habe dies seit über 20 Jahren getan und i...       de   5 stars\n",
       "...                                                 ...      ...       ...\n",
       "4912  \\nA former CIA officer and CIA director has pl...       en    1 star\n",
       "4913  Karen M. Felt, Ph.D. La ricerca è stata condot...       it   4 stars\n",
       "4914  Mit all der Aufmerksamkeit, die dem Thema Abtr...       de   2 stars\n",
       "4915  L'élément le plus important dans le processus ...       fr   4 stars\n",
       "4916  On voit souvent dans les films quelqu'un qui a...       fr   3 stars\n",
       "\n",
       "[4917 rows x 3 columns]"
      ]
     },
     "execution_count": 2,
     "metadata": {},
     "output_type": "execute_result"
    }
   ],
   "source": [
    "df = pd.read_csv(\"multilingual_sentiment_data.csv\")\n",
    "df"
   ]
  },
  {
   "cell_type": "markdown",
   "metadata": {},
   "source": [
    "### Data Cleaning"
   ]
  },
  {
   "cell_type": "code",
   "execution_count": 3,
   "metadata": {},
   "outputs": [],
   "source": [
    "import re\n",
    "import string"
   ]
  },
  {
   "cell_type": "code",
   "execution_count": 4,
   "metadata": {},
   "outputs": [
    {
     "data": {
      "text/html": [
       "<div>\n",
       "<style scoped>\n",
       "    .dataframe tbody tr th:only-of-type {\n",
       "        vertical-align: middle;\n",
       "    }\n",
       "\n",
       "    .dataframe tbody tr th {\n",
       "        vertical-align: top;\n",
       "    }\n",
       "\n",
       "    .dataframe thead th {\n",
       "        text-align: right;\n",
       "    }\n",
       "</style>\n",
       "<table border=\"1\" class=\"dataframe\">\n",
       "  <thead>\n",
       "    <tr style=\"text-align: right;\">\n",
       "      <th></th>\n",
       "      <th>tweet</th>\n",
       "      <th>language</th>\n",
       "      <th>sentiment</th>\n",
       "      <th>tweet2</th>\n",
       "    </tr>\n",
       "  </thead>\n",
       "  <tbody>\n",
       "    <tr>\n",
       "      <th>0</th>\n",
       "      <td>Lionel Messi, que ha estado vinculado con un t...</td>\n",
       "      <td>es</td>\n",
       "      <td>3 stars</td>\n",
       "      <td>Lionel Messi que ha estado vinculado con un tr...</td>\n",
       "    </tr>\n",
       "    <tr>\n",
       "      <th>1</th>\n",
       "      <td>This is a guest post by The Joy of Truth. To r...</td>\n",
       "      <td>en</td>\n",
       "      <td>4 stars</td>\n",
       "      <td>This is a guest post by The Joy of Truth To re...</td>\n",
       "    </tr>\n",
       "    <tr>\n",
       "      <th>2</th>\n",
       "      <td>Nous sommes tous conscients de la popularité d...</td>\n",
       "      <td>fr</td>\n",
       "      <td>5 stars</td>\n",
       "      <td>Nous sommes tous conscients de la popularité d...</td>\n",
       "    </tr>\n",
       "    <tr>\n",
       "      <th>3</th>\n",
       "      <td>El baño en el sistema de metro de la ciudad de...</td>\n",
       "      <td>es</td>\n",
       "      <td>4 stars</td>\n",
       "      <td>El baño en el sistema de metro de la ciudad de...</td>\n",
       "    </tr>\n",
       "    <tr>\n",
       "      <th>4</th>\n",
       "      <td>\"Ich habe dies seit über 20 Jahren getan und i...</td>\n",
       "      <td>de</td>\n",
       "      <td>5 stars</td>\n",
       "      <td>Ich habe dies seit über 20 Jahren getan und ic...</td>\n",
       "    </tr>\n",
       "  </tbody>\n",
       "</table>\n",
       "</div>"
      ],
      "text/plain": [
       "                                               tweet language sentiment  \\\n",
       "0  Lionel Messi, que ha estado vinculado con un t...       es   3 stars   \n",
       "1  This is a guest post by The Joy of Truth. To r...       en   4 stars   \n",
       "2  Nous sommes tous conscients de la popularité d...       fr   5 stars   \n",
       "3  El baño en el sistema de metro de la ciudad de...       es   4 stars   \n",
       "4  \"Ich habe dies seit über 20 Jahren getan und i...       de   5 stars   \n",
       "\n",
       "                                              tweet2  \n",
       "0  Lionel Messi que ha estado vinculado con un tr...  \n",
       "1  This is a guest post by The Joy of Truth To re...  \n",
       "2  Nous sommes tous conscients de la popularité d...  \n",
       "3  El baño en el sistema de metro de la ciudad de...  \n",
       "4  Ich habe dies seit über 20 Jahren getan und ic...  "
      ]
     },
     "execution_count": 4,
     "metadata": {},
     "output_type": "execute_result"
    }
   ],
   "source": [
    "# remove punctuation from strings\n",
    "def pulizia1(testo):\n",
    "  testo1 = testo.translate(str.maketrans('', '', string.punctuation))\n",
    "  if not testo1:\n",
    "    return None\n",
    "  return testo1\n",
    "\n",
    "df[\"tweet2\"] = df[\"tweet\"].apply(pulizia1)\n",
    "df.head()"
   ]
  },
  {
   "cell_type": "code",
   "execution_count": 5,
   "metadata": {},
   "outputs": [],
   "source": [
    "df = df.dropna()"
   ]
  },
  {
   "cell_type": "code",
   "execution_count": 6,
   "metadata": {},
   "outputs": [
    {
     "name": "stderr",
     "output_type": "stream",
     "text": [
      "C:\\Users\\lucre\\AppData\\Local\\Temp\\ipykernel_20632\\1010482121.py:9: SettingWithCopyWarning: \n",
      "A value is trying to be set on a copy of a slice from a DataFrame.\n",
      "Try using .loc[row_indexer,col_indexer] = value instead\n",
      "\n",
      "See the caveats in the documentation: https://pandas.pydata.org/pandas-docs/stable/user_guide/indexing.html#returning-a-view-versus-a-copy\n",
      "  df[\"tweet2\"] = df[\"tweet2\"].apply(pulizia2)\n"
     ]
    },
    {
     "data": {
      "text/html": [
       "<div>\n",
       "<style scoped>\n",
       "    .dataframe tbody tr th:only-of-type {\n",
       "        vertical-align: middle;\n",
       "    }\n",
       "\n",
       "    .dataframe tbody tr th {\n",
       "        vertical-align: top;\n",
       "    }\n",
       "\n",
       "    .dataframe thead th {\n",
       "        text-align: right;\n",
       "    }\n",
       "</style>\n",
       "<table border=\"1\" class=\"dataframe\">\n",
       "  <thead>\n",
       "    <tr style=\"text-align: right;\">\n",
       "      <th></th>\n",
       "      <th>tweet</th>\n",
       "      <th>language</th>\n",
       "      <th>sentiment</th>\n",
       "      <th>tweet2</th>\n",
       "    </tr>\n",
       "  </thead>\n",
       "  <tbody>\n",
       "    <tr>\n",
       "      <th>0</th>\n",
       "      <td>Lionel Messi, que ha estado vinculado con un t...</td>\n",
       "      <td>es</td>\n",
       "      <td>3 stars</td>\n",
       "      <td>lionel messi que ha estado vinculado con un tr...</td>\n",
       "    </tr>\n",
       "    <tr>\n",
       "      <th>1</th>\n",
       "      <td>This is a guest post by The Joy of Truth. To r...</td>\n",
       "      <td>en</td>\n",
       "      <td>4 stars</td>\n",
       "      <td>this is a guest post by the joy of truth to re...</td>\n",
       "    </tr>\n",
       "    <tr>\n",
       "      <th>2</th>\n",
       "      <td>Nous sommes tous conscients de la popularité d...</td>\n",
       "      <td>fr</td>\n",
       "      <td>5 stars</td>\n",
       "      <td>nous sommes tous conscients de la popularité d...</td>\n",
       "    </tr>\n",
       "    <tr>\n",
       "      <th>3</th>\n",
       "      <td>El baño en el sistema de metro de la ciudad de...</td>\n",
       "      <td>es</td>\n",
       "      <td>4 stars</td>\n",
       "      <td>el baño en el sistema de metro de la ciudad de...</td>\n",
       "    </tr>\n",
       "    <tr>\n",
       "      <th>4</th>\n",
       "      <td>\"Ich habe dies seit über 20 Jahren getan und i...</td>\n",
       "      <td>de</td>\n",
       "      <td>5 stars</td>\n",
       "      <td>ich habe dies seit über 20 jahren getan und ic...</td>\n",
       "    </tr>\n",
       "  </tbody>\n",
       "</table>\n",
       "</div>"
      ],
      "text/plain": [
       "                                               tweet language sentiment  \\\n",
       "0  Lionel Messi, que ha estado vinculado con un t...       es   3 stars   \n",
       "1  This is a guest post by The Joy of Truth. To r...       en   4 stars   \n",
       "2  Nous sommes tous conscients de la popularité d...       fr   5 stars   \n",
       "3  El baño en el sistema de metro de la ciudad de...       es   4 stars   \n",
       "4  \"Ich habe dies seit über 20 Jahren getan und i...       de   5 stars   \n",
       "\n",
       "                                              tweet2  \n",
       "0  lionel messi que ha estado vinculado con un tr...  \n",
       "1  this is a guest post by the joy of truth to re...  \n",
       "2  nous sommes tous conscients de la popularité d...  \n",
       "3  el baño en el sistema de metro de la ciudad de...  \n",
       "4  ich habe dies seit über 20 jahren getan und ic...  "
      ]
     },
     "execution_count": 6,
     "metadata": {},
     "output_type": "execute_result"
    }
   ],
   "source": [
    "# all text to lower and remove spaces before and after\n",
    "def pulizia2(testo):\n",
    "  testo = testo.lower()\n",
    "  testo = testo.strip()\n",
    "  if not testo:\n",
    "    return None\n",
    "  return testo\n",
    "\n",
    "df[\"tweet2\"] = df[\"tweet2\"].apply(pulizia2)\n",
    "df.head()"
   ]
  },
  {
   "cell_type": "code",
   "execution_count": 7,
   "metadata": {},
   "outputs": [],
   "source": [
    "df = df.dropna()"
   ]
  },
  {
   "cell_type": "code",
   "execution_count": 8,
   "metadata": {},
   "outputs": [
    {
     "data": {
      "text/html": [
       "<div>\n",
       "<style scoped>\n",
       "    .dataframe tbody tr th:only-of-type {\n",
       "        vertical-align: middle;\n",
       "    }\n",
       "\n",
       "    .dataframe tbody tr th {\n",
       "        vertical-align: top;\n",
       "    }\n",
       "\n",
       "    .dataframe thead th {\n",
       "        text-align: right;\n",
       "    }\n",
       "</style>\n",
       "<table border=\"1\" class=\"dataframe\">\n",
       "  <thead>\n",
       "    <tr style=\"text-align: right;\">\n",
       "      <th></th>\n",
       "      <th>tweet</th>\n",
       "      <th>language</th>\n",
       "      <th>sentiment</th>\n",
       "      <th>tweet2</th>\n",
       "    </tr>\n",
       "  </thead>\n",
       "  <tbody>\n",
       "    <tr>\n",
       "      <th>0</th>\n",
       "      <td>Lionel Messi, que ha estado vinculado con un t...</td>\n",
       "      <td>es</td>\n",
       "      <td>3 stars</td>\n",
       "      <td>lionel messi que ha estado vinculado con un tr...</td>\n",
       "    </tr>\n",
       "    <tr>\n",
       "      <th>1</th>\n",
       "      <td>This is a guest post by The Joy of Truth. To r...</td>\n",
       "      <td>en</td>\n",
       "      <td>4 stars</td>\n",
       "      <td>this is a guest post by the joy of truth to re...</td>\n",
       "    </tr>\n",
       "    <tr>\n",
       "      <th>2</th>\n",
       "      <td>Nous sommes tous conscients de la popularité d...</td>\n",
       "      <td>fr</td>\n",
       "      <td>5 stars</td>\n",
       "      <td>nous sommes tous conscients de la popularité d...</td>\n",
       "    </tr>\n",
       "    <tr>\n",
       "      <th>3</th>\n",
       "      <td>El baño en el sistema de metro de la ciudad de...</td>\n",
       "      <td>es</td>\n",
       "      <td>4 stars</td>\n",
       "      <td>el baño en el sistema de metro de la ciudad de...</td>\n",
       "    </tr>\n",
       "    <tr>\n",
       "      <th>4</th>\n",
       "      <td>\"Ich habe dies seit über 20 Jahren getan und i...</td>\n",
       "      <td>de</td>\n",
       "      <td>5 stars</td>\n",
       "      <td>ich habe dies seit über 20 jahren getan und ic...</td>\n",
       "    </tr>\n",
       "    <tr>\n",
       "      <th>...</th>\n",
       "      <td>...</td>\n",
       "      <td>...</td>\n",
       "      <td>...</td>\n",
       "      <td>...</td>\n",
       "    </tr>\n",
       "    <tr>\n",
       "      <th>4912</th>\n",
       "      <td>\\nA former CIA officer and CIA director has pl...</td>\n",
       "      <td>en</td>\n",
       "      <td>1 star</td>\n",
       "      <td>a former cia officer and cia director has plea...</td>\n",
       "    </tr>\n",
       "    <tr>\n",
       "      <th>4913</th>\n",
       "      <td>Karen M. Felt, Ph.D. La ricerca è stata condot...</td>\n",
       "      <td>it</td>\n",
       "      <td>4 stars</td>\n",
       "      <td>karen m felt phd la ricerca è stata condotta p...</td>\n",
       "    </tr>\n",
       "    <tr>\n",
       "      <th>4914</th>\n",
       "      <td>Mit all der Aufmerksamkeit, die dem Thema Abtr...</td>\n",
       "      <td>de</td>\n",
       "      <td>2 stars</td>\n",
       "      <td>mit all der aufmerksamkeit die dem thema abtre...</td>\n",
       "    </tr>\n",
       "    <tr>\n",
       "      <th>4915</th>\n",
       "      <td>L'élément le plus important dans le processus ...</td>\n",
       "      <td>fr</td>\n",
       "      <td>4 stars</td>\n",
       "      <td>lélément le plus important dans le processus d...</td>\n",
       "    </tr>\n",
       "    <tr>\n",
       "      <th>4916</th>\n",
       "      <td>On voit souvent dans les films quelqu'un qui a...</td>\n",
       "      <td>fr</td>\n",
       "      <td>3 stars</td>\n",
       "      <td>on voit souvent dans les films quelquun qui a ...</td>\n",
       "    </tr>\n",
       "  </tbody>\n",
       "</table>\n",
       "<p>4851 rows × 4 columns</p>\n",
       "</div>"
      ],
      "text/plain": [
       "                                                  tweet language sentiment  \\\n",
       "0     Lionel Messi, que ha estado vinculado con un t...       es   3 stars   \n",
       "1     This is a guest post by The Joy of Truth. To r...       en   4 stars   \n",
       "2     Nous sommes tous conscients de la popularité d...       fr   5 stars   \n",
       "3     El baño en el sistema de metro de la ciudad de...       es   4 stars   \n",
       "4     \"Ich habe dies seit über 20 Jahren getan und i...       de   5 stars   \n",
       "...                                                 ...      ...       ...   \n",
       "4912  \\nA former CIA officer and CIA director has pl...       en    1 star   \n",
       "4913  Karen M. Felt, Ph.D. La ricerca è stata condot...       it   4 stars   \n",
       "4914  Mit all der Aufmerksamkeit, die dem Thema Abtr...       de   2 stars   \n",
       "4915  L'élément le plus important dans le processus ...       fr   4 stars   \n",
       "4916  On voit souvent dans les films quelqu'un qui a...       fr   3 stars   \n",
       "\n",
       "                                                 tweet2  \n",
       "0     lionel messi que ha estado vinculado con un tr...  \n",
       "1     this is a guest post by the joy of truth to re...  \n",
       "2     nous sommes tous conscients de la popularité d...  \n",
       "3     el baño en el sistema de metro de la ciudad de...  \n",
       "4     ich habe dies seit über 20 jahren getan und ic...  \n",
       "...                                                 ...  \n",
       "4912  a former cia officer and cia director has plea...  \n",
       "4913  karen m felt phd la ricerca è stata condotta p...  \n",
       "4914  mit all der aufmerksamkeit die dem thema abtre...  \n",
       "4915  lélément le plus important dans le processus d...  \n",
       "4916  on voit souvent dans les films quelquun qui a ...  \n",
       "\n",
       "[4851 rows x 4 columns]"
      ]
     },
     "execution_count": 8,
     "metadata": {},
     "output_type": "execute_result"
    }
   ],
   "source": [
    "# remove special character \\n from string\n",
    "def pulizia3(testo):\n",
    "  testo = testo.replace(\"\\n\", \"\")\n",
    "  if not testo:\n",
    "    return None\n",
    "  return testo\n",
    "\n",
    "df[\"tweet2\"] = df[\"tweet2\"].apply(pulizia3)\n",
    "df"
   ]
  },
  {
   "cell_type": "code",
   "execution_count": 9,
   "metadata": {},
   "outputs": [
    {
     "data": {
      "text/plain": [
       "tweet        False\n",
       "language     False\n",
       "sentiment    False\n",
       "tweet2       False\n",
       "dtype: bool"
      ]
     },
     "execution_count": 9,
     "metadata": {},
     "output_type": "execute_result"
    }
   ],
   "source": [
    "df.isnull().any()"
   ]
  },
  {
   "cell_type": "code",
   "execution_count": 10,
   "metadata": {},
   "outputs": [
    {
     "data": {
      "text/plain": [
       "fr    976\n",
       "de    975\n",
       "en    974\n",
       "it    968\n",
       "es    958\n",
       "Name: language, dtype: int64"
      ]
     },
     "execution_count": 10,
     "metadata": {},
     "output_type": "execute_result"
    }
   ],
   "source": [
    "df[\"language\"].value_counts()"
   ]
  },
  {
   "cell_type": "code",
   "execution_count": 11,
   "metadata": {},
   "outputs": [],
   "source": [
    "# remove rows with tweet length < 50 char or without letters\n",
    "indici_da_elim = df[df['tweet2'].apply(lambda x: len(x) < 50 or bool(re.match(\"^\\d+$\", x)))].index\n",
    "df = df.drop(indici_da_elim)"
   ]
  },
  {
   "cell_type": "markdown",
   "metadata": {},
   "source": [
    "### Create train (60%), validation (20%) and test (20%) set or the total"
   ]
  },
  {
   "cell_type": "code",
   "execution_count": 12,
   "metadata": {},
   "outputs": [],
   "source": [
    "from sklearn.model_selection import train_test_split\n",
    "train, test = train_test_split(df, test_size=0.4, stratify=df[\"language\"], random_state=42)\n",
    "val, test = train_test_split(test, test_size=0.5, stratify=test[\"language\"], random_state=42)"
   ]
  },
  {
   "cell_type": "code",
   "execution_count": 13,
   "metadata": {},
   "outputs": [
    {
     "name": "stdout",
     "output_type": "stream",
     "text": [
      "(2875, 4)\n",
      "(958, 4)\n",
      "(959, 4)\n"
     ]
    }
   ],
   "source": [
    "print(train.shape)\n",
    "print(val.shape)\n",
    "print(test.shape)"
   ]
  },
  {
   "cell_type": "code",
   "execution_count": 14,
   "metadata": {},
   "outputs": [],
   "source": [
    "from sklearn.feature_extraction.text import TfidfVectorizer\n",
    "vectorizer = TfidfVectorizer()\n",
    "X = vectorizer.fit_transform(train[\"tweet2\"])\n",
    "y = train[\"language\"]"
   ]
  },
  {
   "cell_type": "code",
   "execution_count": 15,
   "metadata": {},
   "outputs": [],
   "source": [
    "X_val = vectorizer.transform(val[\"tweet2\"])\n",
    "y_val = val[\"language\"]\n",
    "X_test = vectorizer.transform(test[\"tweet2\"])\n",
    "y_test = test[\"language\"]"
   ]
  },
  {
   "cell_type": "code",
   "execution_count": 16,
   "metadata": {},
   "outputs": [
    {
     "data": {
      "text/html": [
       "<style>#sk-container-id-1 {color: black;}#sk-container-id-1 pre{padding: 0;}#sk-container-id-1 div.sk-toggleable {background-color: white;}#sk-container-id-1 label.sk-toggleable__label {cursor: pointer;display: block;width: 100%;margin-bottom: 0;padding: 0.3em;box-sizing: border-box;text-align: center;}#sk-container-id-1 label.sk-toggleable__label-arrow:before {content: \"▸\";float: left;margin-right: 0.25em;color: #696969;}#sk-container-id-1 label.sk-toggleable__label-arrow:hover:before {color: black;}#sk-container-id-1 div.sk-estimator:hover label.sk-toggleable__label-arrow:before {color: black;}#sk-container-id-1 div.sk-toggleable__content {max-height: 0;max-width: 0;overflow: hidden;text-align: left;background-color: #f0f8ff;}#sk-container-id-1 div.sk-toggleable__content pre {margin: 0.2em;color: black;border-radius: 0.25em;background-color: #f0f8ff;}#sk-container-id-1 input.sk-toggleable__control:checked~div.sk-toggleable__content {max-height: 200px;max-width: 100%;overflow: auto;}#sk-container-id-1 input.sk-toggleable__control:checked~label.sk-toggleable__label-arrow:before {content: \"▾\";}#sk-container-id-1 div.sk-estimator input.sk-toggleable__control:checked~label.sk-toggleable__label {background-color: #d4ebff;}#sk-container-id-1 div.sk-label input.sk-toggleable__control:checked~label.sk-toggleable__label {background-color: #d4ebff;}#sk-container-id-1 input.sk-hidden--visually {border: 0;clip: rect(1px 1px 1px 1px);clip: rect(1px, 1px, 1px, 1px);height: 1px;margin: -1px;overflow: hidden;padding: 0;position: absolute;width: 1px;}#sk-container-id-1 div.sk-estimator {font-family: monospace;background-color: #f0f8ff;border: 1px dotted black;border-radius: 0.25em;box-sizing: border-box;margin-bottom: 0.5em;}#sk-container-id-1 div.sk-estimator:hover {background-color: #d4ebff;}#sk-container-id-1 div.sk-parallel-item::after {content: \"\";width: 100%;border-bottom: 1px solid gray;flex-grow: 1;}#sk-container-id-1 div.sk-label:hover label.sk-toggleable__label {background-color: #d4ebff;}#sk-container-id-1 div.sk-serial::before {content: \"\";position: absolute;border-left: 1px solid gray;box-sizing: border-box;top: 0;bottom: 0;left: 50%;z-index: 0;}#sk-container-id-1 div.sk-serial {display: flex;flex-direction: column;align-items: center;background-color: white;padding-right: 0.2em;padding-left: 0.2em;position: relative;}#sk-container-id-1 div.sk-item {position: relative;z-index: 1;}#sk-container-id-1 div.sk-parallel {display: flex;align-items: stretch;justify-content: center;background-color: white;position: relative;}#sk-container-id-1 div.sk-item::before, #sk-container-id-1 div.sk-parallel-item::before {content: \"\";position: absolute;border-left: 1px solid gray;box-sizing: border-box;top: 0;bottom: 0;left: 50%;z-index: -1;}#sk-container-id-1 div.sk-parallel-item {display: flex;flex-direction: column;z-index: 1;position: relative;background-color: white;}#sk-container-id-1 div.sk-parallel-item:first-child::after {align-self: flex-end;width: 50%;}#sk-container-id-1 div.sk-parallel-item:last-child::after {align-self: flex-start;width: 50%;}#sk-container-id-1 div.sk-parallel-item:only-child::after {width: 0;}#sk-container-id-1 div.sk-dashed-wrapped {border: 1px dashed gray;margin: 0 0.4em 0.5em 0.4em;box-sizing: border-box;padding-bottom: 0.4em;background-color: white;}#sk-container-id-1 div.sk-label label {font-family: monospace;font-weight: bold;display: inline-block;line-height: 1.2em;}#sk-container-id-1 div.sk-label-container {text-align: center;}#sk-container-id-1 div.sk-container {/* jupyter's `normalize.less` sets `[hidden] { display: none; }` but bootstrap.min.css set `[hidden] { display: none !important; }` so we also need the `!important` here to be able to override the default hidden behavior on the sphinx rendered scikit-learn.org. See: https://github.com/scikit-learn/scikit-learn/issues/21755 */display: inline-block !important;position: relative;}#sk-container-id-1 div.sk-text-repr-fallback {display: none;}</style><div id=\"sk-container-id-1\" class=\"sk-top-container\"><div class=\"sk-text-repr-fallback\"><pre>SVC(kernel=&#x27;linear&#x27;)</pre><b>In a Jupyter environment, please rerun this cell to show the HTML representation or trust the notebook. <br />On GitHub, the HTML representation is unable to render, please try loading this page with nbviewer.org.</b></div><div class=\"sk-container\" hidden><div class=\"sk-item\"><div class=\"sk-estimator sk-toggleable\"><input class=\"sk-toggleable__control sk-hidden--visually\" id=\"sk-estimator-id-1\" type=\"checkbox\" checked><label for=\"sk-estimator-id-1\" class=\"sk-toggleable__label sk-toggleable__label-arrow\">SVC</label><div class=\"sk-toggleable__content\"><pre>SVC(kernel=&#x27;linear&#x27;)</pre></div></div></div></div></div>"
      ],
      "text/plain": [
       "SVC(kernel='linear')"
      ]
     },
     "execution_count": 16,
     "metadata": {},
     "output_type": "execute_result"
    }
   ],
   "source": [
    "from sklearn.svm import SVC\n",
    "from sklearn.metrics import accuracy_score\n",
    "\n",
    "svm = SVC(kernel='linear', C=1.0)\n",
    "svm.fit(X, y)"
   ]
  },
  {
   "cell_type": "code",
   "execution_count": 17,
   "metadata": {},
   "outputs": [
    {
     "name": "stdout",
     "output_type": "stream",
     "text": [
      "Accuratezza su validation: 0.9906054279749478\n"
     ]
    }
   ],
   "source": [
    "pred_val = svm.predict(X_val)\n",
    "accuracy = accuracy_score(y_val, pred_val)\n",
    "print(\"Accuratezza su validation:\", accuracy)"
   ]
  },
  {
   "cell_type": "code",
   "execution_count": 18,
   "metadata": {},
   "outputs": [
    {
     "name": "stdout",
     "output_type": "stream",
     "text": [
      "Accuratezza su test: 0.9916579770594369\n"
     ]
    }
   ],
   "source": [
    "pred_test = svm.predict(X_test)\n",
    "accuracy = accuracy_score(y_test, pred_test)\n",
    "print(\"Accuratezza su test:\", accuracy)"
   ]
  },
  {
   "cell_type": "code",
   "execution_count": 19,
   "metadata": {},
   "outputs": [
    {
     "name": "stdout",
     "output_type": "stream",
     "text": [
      "Classification Report:\n",
      "              precision    recall  f1-score   support\n",
      "\n",
      "          de       0.99      0.98      0.99       193\n",
      "          en       0.98      0.99      0.99       193\n",
      "          es       0.99      1.00      1.00       190\n",
      "          fr       1.00      0.99      1.00       193\n",
      "          it       0.99      0.98      0.99       190\n",
      "\n",
      "    accuracy                           0.99       959\n",
      "   macro avg       0.99      0.99      0.99       959\n",
      "weighted avg       0.99      0.99      0.99       959\n",
      "\n"
     ]
    }
   ],
   "source": [
    "from sklearn.metrics import confusion_matrix, classification_report\n",
    "\n",
    "print(\"Classification Report:\")\n",
    "print(classification_report(y_test, pred_test))"
   ]
  },
  {
   "cell_type": "code",
   "execution_count": 20,
   "metadata": {},
   "outputs": [
    {
     "data": {
      "image/png": "[encoded data removed]",
      "text/plain": [
       "<Figure size 640x480 with 2 Axes>"
      ]
     },
     "metadata": {},
     "output_type": "display_data"
    }
   ],
   "source": [
    "conf_matrix = confusion_matrix(y_test, pred_test)\n",
    "import seaborn as sns\n",
    "import matplotlib.pyplot as plt\n",
    "\n",
    "sns.heatmap(conf_matrix, annot=True, fmt='d', cmap='Blues', \n",
    "            xticklabels=svm.classes_, yticklabels=svm.classes_)\n",
    "plt.xlabel('Predicted Labels')\n",
    "plt.ylabel('True Labels')\n",
    "plt.title('Confusion Matrix')\n",
    "plt.show()"
   ]
  },
  {
   "cell_type": "code",
   "execution_count": null,
   "metadata": {},
   "outputs": [],
   "source": []
  }
 ],
 "metadata": {
  "kernelspec": {
   "display_name": "base",
   "language": "python",
   "name": "python3"
  },
  "language_info": {
   "codemirror_mode": {
    "name": "ipython",
    "version": 3
   },
   "file_extension": ".py",
   "mimetype": "text/x-python",
   "name": "python",
   "nbconvert_exporter": "python",
   "pygments_lexer": "ipython3",
   "version": "3.11.5"
  }
 },
 "nbformat": 4,
 "nbformat_minor": 2
}
